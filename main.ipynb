{
 "cells": [
  {
   "cell_type": "code",
   "execution_count": 7,
   "metadata": {},
   "outputs": [
    {
     "name": "stdout",
     "output_type": "stream",
     "text": [
      "Performance of Linear SVM on Final Dataset:\n",
      "Accuracy =  0.9869617224880383\n",
      "Confusion Matrix:\n",
      "[[ 61   6]\n",
      " [  0 125]]\n",
      "\n",
      "\n",
      "Performance of Linear SVM on Single Dataset:\n",
      "Accuracy =  0.3662213740458015\n",
      "Confusion Matrix:\n",
      "[[323   0   0   0   0   0   0   0   0]\n",
      " [ 90  16  29   0  33   0   0   0   0]\n",
      " [112   0  43   0  32   0   0   0   0]\n",
      " [ 73   6  21   1  16   0   0   0   0]\n",
      " [122   0   0   0  80   0   0   0   0]\n",
      " [ 41   7  20   0   8   0   0   0   0]\n",
      " [ 55   8  20   2  14   0   0   0   0]\n",
      " [ 30   9   9   0   2   0   0   0   0]\n",
      " [ 56   5  19   0   9   0   0   0   0]]\n",
      "\n",
      "\n"
     ]
    }
   ],
   "source": [
    "%run SVM.ipynb"
   ]
  },
  {
   "cell_type": "code",
   "execution_count": null,
   "metadata": {},
   "outputs": [],
   "source": []
  }
 ],
 "metadata": {
  "kernelspec": {
   "display_name": "base",
   "language": "python",
   "name": "python3"
  },
  "language_info": {
   "codemirror_mode": {
    "name": "ipython",
    "version": 3
   },
   "file_extension": ".py",
   "mimetype": "text/x-python",
   "name": "python",
   "nbconvert_exporter": "python",
   "pygments_lexer": "ipython3",
   "version": "3.11.5"
  }
 },
 "nbformat": 4,
 "nbformat_minor": 2
}
