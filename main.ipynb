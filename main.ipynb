{
 "cells": [
  {
   "cell_type": "code",
   "execution_count": 8,
   "metadata": {},
   "outputs": [
    {
     "name": "stdout",
     "output_type": "stream",
     "text": [
      "Performance of Linear SVM on Final Dataset:\n",
      "Accuracy =  0.9869617224880383\n",
      "Confusion Matrix:\n",
      "[[0.318 0.031]\n",
      " [0.    0.651]]\n",
      "\n",
      "\n",
      "Performance of Linear SVM on Single Dataset:\n",
      "Accuracy =  0.3662213740458015\n",
      "Confusion Matrix:\n",
      "[[0.246 0.    0.    0.    0.    0.    0.    0.    0.   ]\n",
      " [0.069 0.012 0.022 0.    0.025 0.    0.    0.    0.   ]\n",
      " [0.085 0.    0.033 0.    0.024 0.    0.    0.    0.   ]\n",
      " [0.056 0.005 0.016 0.001 0.012 0.    0.    0.    0.   ]\n",
      " [0.093 0.    0.    0.    0.061 0.    0.    0.    0.   ]\n",
      " [0.031 0.005 0.015 0.    0.006 0.    0.    0.    0.   ]\n",
      " [0.042 0.006 0.015 0.002 0.011 0.    0.    0.    0.   ]\n",
      " [0.023 0.007 0.007 0.    0.002 0.    0.    0.    0.   ]\n",
      " [0.043 0.004 0.014 0.    0.007 0.    0.    0.    0.   ]]\n",
      "\n",
      "\n"
     ]
    }
   ],
   "source": [
    "%run SVM.ipynb"
   ]
  },
  {
   "cell_type": "code",
   "execution_count": null,
   "metadata": {},
   "outputs": [],
   "source": []
  }
 ],
 "metadata": {
  "kernelspec": {
   "display_name": "base",
   "language": "python",
   "name": "python3"
  },
  "language_info": {
   "codemirror_mode": {
    "name": "ipython",
    "version": 3
   },
   "file_extension": ".py",
   "mimetype": "text/x-python",
   "name": "python",
   "nbconvert_exporter": "python",
   "pygments_lexer": "ipython3",
   "version": "3.11.5"
  }
 },
 "nbformat": 4,
 "nbformat_minor": 2
}
