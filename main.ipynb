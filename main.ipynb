{
 "cells": [
  {
   "cell_type": "code",
   "execution_count": 1,
   "metadata": {},
   "outputs": [
    {
     "name": "stdout",
     "output_type": "stream",
     "text": [
      "{'kernel': 'rbf', 'C': 10}\n",
      "Performance of SVM Classification on Final Dataset:\n",
      "Cross Validation Accuracy =  0.9934723171565276\n",
      "Test Accuracy =  0.9947916666666666\n",
      "Confusion Matrix:\n",
      "[[0.985 0.015]\n",
      " [0.    1.   ]]\n",
      "Performance of SVM Classification on Single Dataset:\n",
      "Cross Validation Accuracy =  0.9133587786259543\n",
      "Test Accuracy =  0.9420289855072463\n",
      "Confusion Matrix:\n",
      "[[0.963 0.003 0.003 0.    0.015 0.    0.009 0.003 0.003]\n",
      " [0.024 0.94  0.006 0.006 0.006 0.    0.012 0.006 0.   ]\n",
      " [0.011 0.005 0.941 0.021 0.    0.    0.005 0.    0.016]\n",
      " [0.034 0.009 0.009 0.932 0.009 0.    0.    0.    0.009]\n",
      " [0.064 0.    0.    0.    0.926 0.01  0.    0.    0.   ]\n",
      " [0.053 0.026 0.026 0.    0.    0.882 0.013 0.    0.   ]\n",
      " [0.    0.02  0.    0.01  0.01  0.    0.96  0.    0.   ]\n",
      " [0.    0.    0.    0.04  0.02  0.    0.    0.94  0.   ]\n",
      " [0.    0.    0.011 0.011 0.    0.    0.    0.022 0.955]]\n",
      "{'weights': 'distance', 'n_neighbors': 2, 'metric': 'euclidean'}\n",
      "Performance of KNN Classification on Final Dataset:\n",
      "Cross Validation Accuracy =  1.0\n",
      "Test Accuracy =  1.0\n",
      "Confusion Matrix:\n",
      "[[1. 0.]\n",
      " [0. 1.]]\n",
      "{'weights': 'distance', 'n_neighbors': 9, 'metric': 'euclidean'}\n",
      "Performance of KNN Classification on Single Dataset:\n",
      "Cross Validation Accuracy =  0.8715648854961833\n",
      "Test Accuracy =  0.9061784897025171\n",
      "Confusion Matrix:\n",
      "[[0.95  0.003 0.006 0.    0.031 0.    0.006 0.    0.003]\n",
      " [0.006 0.881 0.018 0.018 0.03  0.    0.012 0.006 0.03 ]\n",
      " [0.043 0.005 0.909 0.021 0.005 0.    0.011 0.005 0.   ]\n",
      " [0.009 0.026 0.026 0.889 0.017 0.    0.    0.    0.034]\n",
      " [0.04  0.01  0.    0.    0.95  0.    0.    0.    0.   ]\n",
      " [0.026 0.079 0.013 0.026 0.    0.855 0.    0.    0.   ]\n",
      " [0.03  0.    0.04  0.01  0.01  0.    0.909 0.    0.   ]\n",
      " [0.    0.12  0.    0.04  0.02  0.04  0.02  0.76  0.   ]\n",
      " [0.09  0.034 0.011 0.011 0.    0.    0.    0.022 0.831]]\n",
      "{'estimator__weights': 'distance', 'estimator__n_neighbors': 9, 'estimator__metric': 'minkowski'}\n",
      "Performance of KNN Regression on Multi Dataset:\n",
      "Cross Validation RMSE =  0.03542710084410962\n",
      "Test Accuracy =  0.829980034205453\n",
      "RMSE =  0.16690767106061566\n"
     ]
    },
    {
     "name": "stderr",
     "output_type": "stream",
     "text": [
      "c:\\Users\\Taylo\\anaconda3\\Lib\\site-packages\\sklearn\\neural_network\\_multilayer_perceptron.py:691: ConvergenceWarning: Stochastic Optimizer: Maximum iterations (300) reached and the optimization hasn't converged yet.\n",
      "  warnings.warn(\n",
      "c:\\Users\\Taylo\\anaconda3\\Lib\\site-packages\\sklearn\\neural_network\\_multilayer_perceptron.py:691: ConvergenceWarning: Stochastic Optimizer: Maximum iterations (300) reached and the optimization hasn't converged yet.\n",
      "  warnings.warn(\n",
      "c:\\Users\\Taylo\\anaconda3\\Lib\\site-packages\\sklearn\\neural_network\\_multilayer_perceptron.py:691: ConvergenceWarning: Stochastic Optimizer: Maximum iterations (300) reached and the optimization hasn't converged yet.\n",
      "  warnings.warn(\n",
      "c:\\Users\\Taylo\\anaconda3\\Lib\\site-packages\\sklearn\\neural_network\\_multilayer_perceptron.py:691: ConvergenceWarning: Stochastic Optimizer: Maximum iterations (300) reached and the optimization hasn't converged yet.\n",
      "  warnings.warn(\n",
      "c:\\Users\\Taylo\\anaconda3\\Lib\\site-packages\\sklearn\\neural_network\\_multilayer_perceptron.py:691: ConvergenceWarning: Stochastic Optimizer: Maximum iterations (300) reached and the optimization hasn't converged yet.\n",
      "  warnings.warn(\n",
      "c:\\Users\\Taylo\\anaconda3\\Lib\\site-packages\\sklearn\\neural_network\\_multilayer_perceptron.py:691: ConvergenceWarning: Stochastic Optimizer: Maximum iterations (300) reached and the optimization hasn't converged yet.\n",
      "  warnings.warn(\n",
      "c:\\Users\\Taylo\\anaconda3\\Lib\\site-packages\\sklearn\\neural_network\\_multilayer_perceptron.py:691: ConvergenceWarning: Stochastic Optimizer: Maximum iterations (300) reached and the optimization hasn't converged yet.\n",
      "  warnings.warn(\n",
      "c:\\Users\\Taylo\\anaconda3\\Lib\\site-packages\\sklearn\\neural_network\\_multilayer_perceptron.py:691: ConvergenceWarning: Stochastic Optimizer: Maximum iterations (300) reached and the optimization hasn't converged yet.\n",
      "  warnings.warn(\n"
     ]
    },
    {
     "name": "stdout",
     "output_type": "stream",
     "text": [
      "Performance of Multilayer Perceptron Classification on Final Dataset:\n",
      "Cross Validation Accuracy =  0.9869617224880383\n",
      "Test Accuracy =  0.9739583333333334\n",
      "Confusion Matrix:\n",
      "[[0.925 0.075]\n",
      " [0.    1.   ]]\n"
     ]
    },
    {
     "name": "stderr",
     "output_type": "stream",
     "text": [
      "c:\\Users\\Taylo\\anaconda3\\Lib\\site-packages\\sklearn\\neural_network\\_multilayer_perceptron.py:691: ConvergenceWarning: Stochastic Optimizer: Maximum iterations (300) reached and the optimization hasn't converged yet.\n",
      "  warnings.warn(\n",
      "c:\\Users\\Taylo\\anaconda3\\Lib\\site-packages\\sklearn\\neural_network\\_multilayer_perceptron.py:691: ConvergenceWarning: Stochastic Optimizer: Maximum iterations (300) reached and the optimization hasn't converged yet.\n",
      "  warnings.warn(\n",
      "c:\\Users\\Taylo\\anaconda3\\Lib\\site-packages\\sklearn\\neural_network\\_multilayer_perceptron.py:691: ConvergenceWarning: Stochastic Optimizer: Maximum iterations (300) reached and the optimization hasn't converged yet.\n",
      "  warnings.warn(\n",
      "c:\\Users\\Taylo\\anaconda3\\Lib\\site-packages\\sklearn\\neural_network\\_multilayer_perceptron.py:691: ConvergenceWarning: Stochastic Optimizer: Maximum iterations (300) reached and the optimization hasn't converged yet.\n",
      "  warnings.warn(\n",
      "c:\\Users\\Taylo\\anaconda3\\Lib\\site-packages\\sklearn\\neural_network\\_multilayer_perceptron.py:691: ConvergenceWarning: Stochastic Optimizer: Maximum iterations (300) reached and the optimization hasn't converged yet.\n",
      "  warnings.warn(\n",
      "c:\\Users\\Taylo\\anaconda3\\Lib\\site-packages\\sklearn\\neural_network\\_multilayer_perceptron.py:691: ConvergenceWarning: Stochastic Optimizer: Maximum iterations (300) reached and the optimization hasn't converged yet.\n",
      "  warnings.warn(\n",
      "c:\\Users\\Taylo\\anaconda3\\Lib\\site-packages\\sklearn\\neural_network\\_multilayer_perceptron.py:691: ConvergenceWarning: Stochastic Optimizer: Maximum iterations (300) reached and the optimization hasn't converged yet.\n",
      "  warnings.warn(\n",
      "c:\\Users\\Taylo\\anaconda3\\Lib\\site-packages\\sklearn\\neural_network\\_multilayer_perceptron.py:691: ConvergenceWarning: Stochastic Optimizer: Maximum iterations (300) reached and the optimization hasn't converged yet.\n",
      "  warnings.warn(\n",
      "c:\\Users\\Taylo\\anaconda3\\Lib\\site-packages\\sklearn\\neural_network\\_multilayer_perceptron.py:691: ConvergenceWarning: Stochastic Optimizer: Maximum iterations (300) reached and the optimization hasn't converged yet.\n",
      "  warnings.warn(\n",
      "c:\\Users\\Taylo\\anaconda3\\Lib\\site-packages\\sklearn\\neural_network\\_multilayer_perceptron.py:691: ConvergenceWarning: Stochastic Optimizer: Maximum iterations (300) reached and the optimization hasn't converged yet.\n",
      "  warnings.warn(\n",
      "c:\\Users\\Taylo\\anaconda3\\Lib\\site-packages\\sklearn\\neural_network\\_multilayer_perceptron.py:691: ConvergenceWarning: Stochastic Optimizer: Maximum iterations (300) reached and the optimization hasn't converged yet.\n",
      "  warnings.warn(\n"
     ]
    },
    {
     "name": "stdout",
     "output_type": "stream",
     "text": [
      "Performance of Multilayer Perceptron Classification on Single Dataset:\n",
      "Cross Validation Accuracy =  0.865648854961832\n",
      "Test Accuracy =  0.8779557589626239\n",
      "Confusion Matrix:\n",
      "[[0.913 0.    0.012 0.006 0.043 0.003 0.012 0.009 0.   ]\n",
      " [0.036 0.815 0.036 0.018 0.036 0.018 0.024 0.006 0.012]\n",
      " [0.048 0.027 0.845 0.032 0.032 0.    0.005 0.005 0.005]\n",
      " [0.026 0.017 0.009 0.88  0.026 0.    0.009 0.009 0.026]\n",
      " [0.084 0.005 0.02  0.    0.881 0.    0.01  0.    0.   ]\n",
      " [0.    0.039 0.013 0.    0.    0.921 0.026 0.    0.   ]\n",
      " [0.03  0.01  0.03  0.04  0.    0.    0.869 0.01  0.01 ]\n",
      " [0.02  0.04  0.    0.04  0.    0.    0.02  0.88  0.   ]\n",
      " [0.022 0.022 0.056 0.    0.    0.    0.    0.    0.899]]\n",
      "Performance of Linear Regression on Multi Dataset:\n",
      "Cross Validation RMSE =  0.1686457712894154\n",
      "Test Accuracy =  0.0025845568803451644\n",
      "RMSE =  0.41040380121796166\n"
     ]
    }
   ],
   "source": [
    "%run SVM.ipynb\n",
    "%run KNN.ipynb\n",
    "%run MLP.ipynb\n",
    "%run LR.ipynb"
   ]
  },
  {
   "cell_type": "code",
   "execution_count": null,
   "metadata": {},
   "outputs": [],
   "source": []
  }
 ],
 "metadata": {
  "kernelspec": {
   "display_name": "base",
   "language": "python",
   "name": "python3"
  },
  "language_info": {
   "codemirror_mode": {
    "name": "ipython",
    "version": 3
   },
   "file_extension": ".py",
   "mimetype": "text/x-python",
   "name": "python",
   "nbconvert_exporter": "python",
   "pygments_lexer": "ipython3",
   "version": "3.11.4"
  }
 },
 "nbformat": 4,
 "nbformat_minor": 2
}
