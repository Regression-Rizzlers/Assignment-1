{
 "cells": [
  {
   "cell_type": "code",
   "execution_count": 40,
   "metadata": {},
   "outputs": [],
   "source": [
    "import numpy as np\n",
    "import pandas as pd\n",
    "from sklearn.svm import SVC\n",
    "from sklearn.metrics import confusion_matrix\n",
    "from sklearn.model_selection import train_test_split, cross_val_score, cross_val_predict"
   ]
  },
  {
   "cell_type": "markdown",
   "metadata": {},
   "source": [
    "# Load Datasets"
   ]
  },
  {
   "cell_type": "code",
   "execution_count": 41,
   "metadata": {},
   "outputs": [],
   "source": [
    "def load_data(file_path):\n",
    "    A = np.loadtxt(file_path)\n",
    "    X = A[:, :9]    # Input features\n",
    "    y = A[:, 9:]    # Output labels\n",
    "    return X, y"
   ]
  },
  {
   "cell_type": "code",
   "execution_count": 42,
   "metadata": {},
   "outputs": [],
   "source": [
    "# Load all 3 datasets\n",
    "X_final, y_final = load_data('../data/tictac_final.txt')\n",
    "y_final = y_final[:, 0]\n",
    "\n",
    "X_single, y_single = load_data('../data/tictac_single.txt')\n",
    "y_single = y_single[:, 0]\n",
    "\n",
    "X_multi, y_multi = load_data('../data/tictac_multi.txt')"
   ]
  },
  {
   "cell_type": "markdown",
   "metadata": {},
   "source": [
    "# SVM Classifier"
   ]
  },
  {
   "cell_type": "code",
   "execution_count": 51,
   "metadata": {},
   "outputs": [],
   "source": [
    "def svm_train(X, y):\n",
    "    # Split into training and testing data\n",
    "    X_train, X_test, y_train, y_test = train_test_split(X, y, test_size=0.2, shuffle=True, random_state=42)\n",
    "\n",
    "    # Define and train model\n",
    "    model = SVC(kernel='linear')\n",
    "    model.fit(X_train, y_train)\n",
    "\n",
    "    # Get accuracy\n",
    "    accuracy = cross_val_score(model, X_train, y_train, cv=10, scoring=\"accuracy\")\n",
    "    mean_accuracy = np.mean(accuracy)\n",
    "\n",
    "    # Get confusion matrix\n",
    "    y_pred = model.predict(X_test)\n",
    "    confusion_mtrx = confusion_matrix(y_test, y_pred)\n",
    "\n",
    "    return mean_accuracy, confusion_mtrx\n"
   ]
  },
  {
   "cell_type": "code",
   "execution_count": 57,
   "metadata": {},
   "outputs": [],
   "source": [
    "def print_results(accuracy, confusion_mtrx, dataset_name):\n",
    "    print(f\"Performance of Linear SVM on {dataset_name}:\")\n",
    "    print(\"Accuracy = \", accuracy)\n",
    "    print(\"Confusion Matrix:\")\n",
    "    print(confusion_mtrx)"
   ]
  },
  {
   "cell_type": "markdown",
   "metadata": {},
   "source": [
    "## Final Dataset"
   ]
  },
  {
   "cell_type": "code",
   "execution_count": 58,
   "metadata": {},
   "outputs": [
    {
     "name": "stdout",
     "output_type": "stream",
     "text": [
      "Performance of Linear SVM on Final Dataset:\n",
      "Accuracy =  0.9869617224880383\n",
      "Confusion Matrix:\n",
      "[[ 61   6]\n",
      " [  0 125]]\n"
     ]
    }
   ],
   "source": [
    "accuracy_final, confusion_mtrx_final = svm_train(X_final, y_final)\n",
    "print_results(accuracy_final, confusion_mtrx_final, \"Final Dataset\")"
   ]
  },
  {
   "cell_type": "markdown",
   "metadata": {},
   "source": [
    "## Single Dataset"
   ]
  },
  {
   "cell_type": "code",
   "execution_count": 59,
   "metadata": {},
   "outputs": [
    {
     "name": "stdout",
     "output_type": "stream",
     "text": [
      "Performance of Linear SVM on Single Dataset:\n",
      "Accuracy =  0.3662213740458015\n",
      "Confusion Matrix:\n",
      "[[323   0   0   0   0   0   0   0   0]\n",
      " [ 90  16  29   0  33   0   0   0   0]\n",
      " [112   0  43   0  32   0   0   0   0]\n",
      " [ 73   6  21   1  16   0   0   0   0]\n",
      " [122   0   0   0  80   0   0   0   0]\n",
      " [ 41   7  20   0   8   0   0   0   0]\n",
      " [ 55   8  20   2  14   0   0   0   0]\n",
      " [ 30   9   9   0   2   0   0   0   0]\n",
      " [ 56   5  19   0   9   0   0   0   0]]\n"
     ]
    }
   ],
   "source": [
    "accuracy_single, confusion_mtrx_single = svm_train(X_single, y_single)\n",
    "print_results(accuracy_single, confusion_mtrx_single, \"Single Dataset\")"
   ]
  },
  {
   "cell_type": "markdown",
   "metadata": {},
   "source": [
    "## Multi Dataset"
   ]
  },
  {
   "cell_type": "code",
   "execution_count": 65,
   "metadata": {},
   "outputs": [
    {
     "name": "stdout",
     "output_type": "stream",
     "text": [
      "Performance of Linear SVM on Multi Dataset 0:\n",
      "Accuracy =  0.7631679389312976\n",
      "Confusion Matrix:\n",
      "[[988   0]\n",
      " [323   0]]\n",
      "\n",
      "\n",
      "Performance of Linear SVM on Multi Dataset 1:\n",
      "Accuracy =  0.8213740458015268\n",
      "Confusion Matrix:\n",
      "[[1086    0]\n",
      " [ 225    0]]\n",
      "\n",
      "\n",
      "Performance of Linear SVM on Multi Dataset 2:\n",
      "Accuracy =  0.7646946564885496\n",
      "Confusion Matrix:\n",
      "[[998   0]\n",
      " [313   0]]\n",
      "\n",
      "\n",
      "Performance of Linear SVM on Multi Dataset 3:\n",
      "Accuracy =  0.8227099236641221\n",
      "Confusion Matrix:\n",
      "[[1061    0]\n",
      " [ 250    0]]\n",
      "\n",
      "\n",
      "Performance of Linear SVM on Multi Dataset 4:\n",
      "Accuracy =  0.706679389312977\n",
      "Confusion Matrix:\n",
      "[[926   0]\n",
      " [385   0]]\n",
      "\n",
      "\n",
      "Performance of Linear SVM on Multi Dataset 5:\n",
      "Accuracy =  0.8194656488549619\n",
      "Confusion Matrix:\n",
      "[[1077    0]\n",
      " [ 234    0]]\n",
      "\n",
      "\n",
      "Performance of Linear SVM on Multi Dataset 6:\n",
      "Accuracy =  0.7543893129770991\n",
      "Confusion Matrix:\n",
      "[[1021    0]\n",
      " [ 290    0]]\n",
      "\n",
      "\n",
      "Performance of Linear SVM on Multi Dataset 7:\n",
      "Accuracy =  0.8230916030534351\n",
      "Confusion Matrix:\n",
      "[[1069    0]\n",
      " [ 242    0]]\n",
      "\n",
      "\n",
      "Performance of Linear SVM on Multi Dataset 8:\n",
      "Accuracy =  0.7622137404580153\n",
      "Confusion Matrix:\n",
      "[[1006    0]\n",
      " [ 305    0]]\n",
      "\n",
      "\n"
     ]
    }
   ],
   "source": [
    "# TODO: This is prob wrong, idk how to properly train models for this dataset yet\n",
    "# Create 9 classification models for each output vector\n",
    "for i in range(9):\n",
    "    y_data = y_multi[:, i]\n",
    "\n",
    "    accuracy_multi, confusion_mtrx_multi = svm_train(X_multi, y_data)\n",
    "    print_results(accuracy_multi, confusion_mtrx_multi, f\"Multi Dataset {i}\")\n",
    "    print(\"\\n\")"
   ]
  },
  {
   "cell_type": "code",
   "execution_count": null,
   "metadata": {},
   "outputs": [],
   "source": []
  }
 ],
 "metadata": {
  "kernelspec": {
   "display_name": "base",
   "language": "python",
   "name": "python3"
  },
  "language_info": {
   "codemirror_mode": {
    "name": "ipython",
    "version": 3
   },
   "file_extension": ".py",
   "mimetype": "text/x-python",
   "name": "python",
   "nbconvert_exporter": "python",
   "pygments_lexer": "ipython3",
   "version": "3.11.5"
  }
 },
 "nbformat": 4,
 "nbformat_minor": 2
}
