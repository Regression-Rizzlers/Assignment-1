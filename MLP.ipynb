{
 "cells": [
  {
   "cell_type": "code",
   "execution_count": 1,
   "metadata": {},
   "outputs": [],
   "source": [
    "import numpy as np\n",
    "import pandas as pd\n",
    "from sklearn.neural_network import MLPClassifier, MLPRegressor\n",
    "from sklearn.metrics import confusion_matrix, accuracy_score, mean_squared_error\n",
    "from sklearn.model_selection import train_test_split, cross_val_score, GridSearchCV, RandomizedSearchCV\n",
    "from sklearn.multioutput import MultiOutputRegressor"
   ]
  },
  {
   "cell_type": "markdown",
   "metadata": {},
   "source": [
    "# Load Datasets"
   ]
  },
  {
   "cell_type": "code",
   "execution_count": 2,
   "metadata": {},
   "outputs": [],
   "source": [
    "def load_data(file_path):\n",
    "    A = np.loadtxt(file_path)\n",
    "    X = A[:, :9]    # Input features\n",
    "    y = A[:, 9:]    # Output labels\n",
    "    return X, y"
   ]
  },
  {
   "cell_type": "code",
   "execution_count": 3,
   "metadata": {},
   "outputs": [],
   "source": [
    "# Load all 3 datasets\n",
    "X_final, y_final = load_data('data/tictac_final.txt')\n",
    "y_final = y_final[:, 0]\n",
    "\n",
    "X_single, y_single = load_data('data/tictac_single.txt')\n",
    "y_single = y_single[:, 0]\n",
    "\n",
    "X_multi, y_multi = load_data('data/tictac_multi.txt')"
   ]
  },
  {
   "cell_type": "markdown",
   "metadata": {},
   "source": [
    "## Multilayer Perceptron Classifier"
   ]
  },
  {
   "cell_type": "code",
   "execution_count": 4,
   "metadata": {},
   "outputs": [],
   "source": [
    "def mlp_clf_train(X, y, is_one_tenth = False):\n",
    "    # Split into training and testing data\n",
    "    if is_one_tenth == False:\n",
    "        X_train, X_test, y_train, y_test = train_test_split(X, y, test_size=0.2, shuffle=True, random_state=42)\n",
    "    else:\n",
    "        X_train, X_test, y_train, y_test = train_test_split(X, y, train_size=0.1, shuffle=True, random_state=42)\n",
    "\n",
    "    from sklearn.preprocessing import StandardScaler \n",
    "    scaler = StandardScaler()\n",
    "    scaler.fit(X_train) \n",
    "    X_train = scaler.transform(X_train)  \n",
    "    X_test = scaler.transform(X_test)\n",
    "    \n",
    "    # Define and train model\n",
    "    model = MLPClassifier(max_iter=300,solver='lbfgs', alpha=1e-5)\n",
    "    model.fit(X_train, y_train)\n",
    "\n",
    "    # Get cross validation accuracy\n",
    "    val_accuracy = cross_val_score(model, X_train, y_train, cv=10, scoring=\"accuracy\")\n",
    "    val_accuracy = np.mean(val_accuracy)\n",
    "\n",
    "    # Get test accuracy\n",
    "    y_pred = model.predict(X_test)\n",
    "    test_accuracy = accuracy_score(y_test, y_pred)\n",
    "\n",
    "    # Get confusion matrix\n",
    "    confusion_mtrx = confusion_matrix(y_test, y_pred, normalize=\"true\")\n",
    "\n",
    "    return val_accuracy, test_accuracy, confusion_mtrx"
   ]
  },
  {
   "cell_type": "code",
   "execution_count": 5,
   "metadata": {},
   "outputs": [],
   "source": [
    "def print_clf_results(val_accuracy, test_accuracy, confusion_mtrx, dataset_name):\n",
    "    print(f\"Performance of Multilayer Perceptron Classification on {dataset_name}:\")\n",
    "    print(\"Cross Validation Accuracy = \", val_accuracy)\n",
    "    print(\"Test Accuracy = \", test_accuracy)\n",
    "    print(\"Confusion Matrix:\")\n",
    "    print(confusion_mtrx.round(decimals=3)) # Round to 3 decimal places"
   ]
  },
  {
   "cell_type": "markdown",
   "metadata": {},
   "source": [
    "## Final Dataset"
   ]
  },
  {
   "cell_type": "code",
   "execution_count": 6,
   "metadata": {},
   "outputs": [
    {
     "name": "stdout",
     "output_type": "stream",
     "text": [
      "Performance of Multilayer Perceptron Classification on Final Dataset:\n",
      "Cross Validation Accuracy =  0.9895762132604238\n",
      "Test Accuracy =  0.9739583333333334\n",
      "Confusion Matrix:\n",
      "[[0.925 0.075]\n",
      " [0.    1.   ]]\n"
     ]
    }
   ],
   "source": [
    "val_acc_final, test_acc_final, confusion_mtrx_final = mlp_clf_train(X_final, y_final)\n",
    "print_clf_results(val_acc_final, test_acc_final, confusion_mtrx_final, \"Final Dataset\")"
   ]
  },
  {
   "cell_type": "code",
   "execution_count": 7,
   "metadata": {},
   "outputs": [
    {
     "name": "stdout",
     "output_type": "stream",
     "text": [
      "Extra Credit #2 - Train the models on 1/10th of the data\n",
      "Performance of Multilayer Perceptron Classification on Final Dataset:\n",
      "Cross Validation Accuracy =  0.8166666666666667\n",
      "Test Accuracy =  0.9003476245654692\n",
      "Confusion Matrix:\n",
      "[[0.77  0.23 ]\n",
      " [0.029 0.971]]\n"
     ]
    }
   ],
   "source": [
    "print(\"Extra Credit #2 - Train the models on 1/10th of the data\")\n",
    "val_acc_final, test_acc_final, confusion_mtrx_final = mlp_clf_train(X_final, y_final, True)\n",
    "print_clf_results(val_acc_final, test_acc_final, confusion_mtrx_final, \"Final Dataset\")"
   ]
  },
  {
   "cell_type": "markdown",
   "metadata": {},
   "source": [
    "## Single Dataset"
   ]
  },
  {
   "cell_type": "code",
   "execution_count": 8,
   "metadata": {},
   "outputs": [
    {
     "name": "stdout",
     "output_type": "stream",
     "text": [
      "Performance of Multilayer Perceptron Classification on Single Dataset:\n",
      "Cross Validation Accuracy =  0.9099236641221374\n",
      "Test Accuracy =  0.9443173150266971\n",
      "Confusion Matrix:\n",
      "[[0.966 0.003 0.    0.006 0.003 0.    0.012 0.003 0.006]\n",
      " [0.012 0.929 0.006 0.012 0.012 0.006 0.012 0.    0.012]\n",
      " [0.027 0.    0.936 0.016 0.    0.    0.011 0.005 0.005]\n",
      " [0.017 0.017 0.    0.932 0.017 0.    0.    0.009 0.009]\n",
      " [0.02  0.    0.015 0.    0.955 0.01  0.    0.    0.   ]\n",
      " [0.039 0.    0.013 0.    0.    0.934 0.013 0.    0.   ]\n",
      " [0.    0.    0.01  0.01  0.    0.    0.98  0.    0.   ]\n",
      " [0.02  0.04  0.    0.1   0.    0.    0.    0.84  0.   ]\n",
      " [0.    0.011 0.034 0.022 0.    0.    0.    0.    0.933]]\n"
     ]
    }
   ],
   "source": [
    "import warnings\n",
    "warnings.filterwarnings('ignore')\n",
    "val_acc_single, test_acc_single, confusion_mtrx_single = mlp_clf_train(X_single, y_single)\n",
    "print_clf_results(val_acc_single, test_acc_single, confusion_mtrx_single, \"Single Dataset\")"
   ]
  },
  {
   "cell_type": "code",
   "execution_count": 9,
   "metadata": {},
   "outputs": [
    {
     "name": "stdout",
     "output_type": "stream",
     "text": [
      "Extra Credit #2 - Train the models on 1/10th of the data\n",
      "Performance of Multilayer Perceptron Classification on Single Dataset:\n",
      "Cross Validation Accuracy =  0.6992074592074593\n",
      "Test Accuracy =  0.7042062415196744\n",
      "Confusion Matrix:\n",
      "[[0.838 0.026 0.024 0.015 0.038 0.011 0.023 0.008 0.018]\n",
      " [0.041 0.656 0.054 0.049 0.07  0.044 0.023 0.025 0.037]\n",
      " [0.084 0.056 0.679 0.036 0.096 0.005 0.018 0.016 0.01 ]\n",
      " [0.043 0.041 0.024 0.565 0.099 0.075 0.079 0.032 0.043]\n",
      " [0.073 0.04  0.029 0.052 0.75  0.021 0.018 0.001 0.017]\n",
      " [0.093 0.062 0.062 0.056 0.003 0.579 0.075 0.037 0.031]\n",
      " [0.068 0.087 0.068 0.054 0.027 0.006 0.641 0.01  0.039]\n",
      " [0.078 0.069 0.037 0.05  0.078 0.041 0.018 0.573 0.055]\n",
      " [0.08  0.029 0.027 0.078 0.01  0.068 0.005 0.024 0.679]]\n"
     ]
    }
   ],
   "source": [
    "print(\"Extra Credit #2 - Train the models on 1/10th of the data\")\n",
    "val_acc_single, test_acc_single, confusion_mtrx_single = mlp_clf_train(X_single, y_single, True)\n",
    "print_clf_results(val_acc_single, test_acc_single, confusion_mtrx_single, \"Single Dataset\")"
   ]
  },
  {
   "cell_type": "markdown",
   "metadata": {},
   "source": [
    "# Multilayer Perceptron Regressor"
   ]
  },
  {
   "cell_type": "code",
   "execution_count": 10,
   "metadata": {},
   "outputs": [],
   "source": [
    "def finetune_reg_parameters(X_train, y_train):\n",
    "    mlp_regressor = MLPRegressor()\n",
    "    multioutput_regressor = MultiOutputRegressor(mlp_regressor)\n",
    "\n",
    "    # Define the parameter grid\n",
    "    param_grid = {'estimator__alpha': [1e-6],\n",
    "                  'estimator__hidden_layer_sizes': (1024,),\n",
    "                  'estimator__max_iter': [10000]}\n",
    "\n",
    "\n",
    "    # RandomizedSearchCV to find the best value of k\n",
    "    randomized_search = RandomizedSearchCV(multioutput_regressor, param_grid, n_iter=4, cv=10, scoring='neg_mean_squared_error')\n",
    "    randomized_search.fit(X_train, y_train)\n",
    "\n",
    "    # Get the best value of k\n",
    "    best_params = randomized_search.best_params_\n",
    "\n",
    "    # Remove estimator__ in front of every hyperparameter\n",
    "    remove_str = \"estimator__\"\n",
    "\n",
    "    for param in list(best_params.keys()):\n",
    "        if remove_str in param:\n",
    "            new_param = param.replace(remove_str, \"\")\n",
    "            best_params[new_param] = best_params[param]\n",
    "            del best_params[param]\n",
    "    \n",
    "    print(best_params)\n",
    "        \n",
    "    return best_params"
   ]
  },
  {
   "cell_type": "code",
   "execution_count": 13,
   "metadata": {},
   "outputs": [],
   "source": [
    "def MLP_reg_train(X, y, is_one_tenth = False):\n",
    "    # Split into training and testing data\n",
    "    if is_one_tenth == False:\n",
    "        X_train, X_test, y_train, y_test = train_test_split(X, y, test_size=0.2, shuffle=True, random_state=42)\n",
    "    else:\n",
    "        X_train, X_test, y_train, y_test = train_test_split(X, y, train_size=0.1, shuffle=True, random_state=42)\n",
    "    \n",
    "    # from sklearn.preprocessing import StandardScaler \n",
    "    # scaler = StandardScaler()\n",
    "    # scaler.fit(X_train) \n",
    "    # X_train = scaler.transform(X_train)  \n",
    "    # X_test = scaler.transform(X_test)\n",
    "    \n",
    "    best_params = finetune_reg_parameters(X_train,y_train)\n",
    "\n",
    "    # Define and train model\n",
    "    base_regressor = MLPRegressor(**best_params)\n",
    "    model = MultiOutputRegressor(base_regressor)\n",
    "    model.fit(X_train, y_train)\n",
    "\n",
    "    # Get cross validation accuracy\n",
    "    val_accuracy = cross_val_score(model, X_train, y_train, cv=10, scoring=\"r2\")\n",
    "    val_accuracy = np.mean(val_accuracy)\n",
    "\n",
    "    # Get test accuracy\n",
    "    test_accuracy = model.score(X_test, y_test)\n",
    "\n",
    "    # Get RMSE\n",
    "    y_pred = model.predict(X_test)\n",
    "    mse = mean_squared_error(y_test, y_pred)\n",
    "    rmse = np.sqrt(mse)\n",
    "\n",
    "    return val_accuracy, test_accuracy, rmse"
   ]
  },
  {
   "cell_type": "code",
   "execution_count": 14,
   "metadata": {},
   "outputs": [],
   "source": [
    "def print_reg_results(val_rmse, test_accuracy, rmse, dataset_name):\n",
    "    print(f\"Performance of MLP Regression on {dataset_name}:\")\n",
    "    print(\"Cross Validation Accuracy = \", val_rmse)\n",
    "    print(\"Test Accuracy = \", test_accuracy)\n",
    "    print(\"RMSE = \", rmse)"
   ]
  },
  {
   "cell_type": "markdown",
   "metadata": {},
   "source": [
    "## Multi Dataset"
   ]
  },
  {
   "cell_type": "code",
   "execution_count": 11,
   "metadata": {},
   "outputs": [
    {
     "name": "stdout",
     "output_type": "stream",
     "text": [
      "{'estimator__max_iter': 10000, 'estimator__hidden_layer_sizes': 1024, 'estimator__alpha': 1e-06}\n",
      "Performance of MLP Regression on Multi Dataset:\n",
      "Cross Validation Accuracy =  0.7983083685060413\n",
      "Test Accuracy =  0.819724836397738\n",
      "RMSE =  0.17222943080373798\n"
     ]
    }
   ],
   "source": [
    "val_rmse_multi, test_acc_multi, rmse_multi = MLP_reg_train(X_multi, y_multi)\n",
    "print_reg_results(val_rmse_multi, test_acc_multi, rmse_multi, \"Multi Dataset\")"
   ]
  },
  {
   "cell_type": "code",
   "execution_count": 15,
   "metadata": {},
   "outputs": [
    {
     "name": "stdout",
     "output_type": "stream",
     "text": [
      "Extra Credit #2 - Train the models on 1/10th of the data\n",
      "{'max_iter': 10000, 'hidden_layer_sizes': 1024, 'alpha': 1e-06}\n",
      "Performance of MLP Regression on Multi Dataset:\n",
      "Cross Validation Accuracy =  0.49550508790833525\n",
      "Test Accuracy =  0.5261690641829009\n",
      "RMSE =  0.27871836772496833\n"
     ]
    }
   ],
   "source": [
    "print(\"Extra Credit #2 - Train the models on 1/10th of the data\")\n",
    "val_rmse_multi, test_acc_multi, rmse_multi = MLP_reg_train(X_multi, y_multi, True)\n",
    "print_reg_results(val_rmse_multi, test_acc_multi, rmse_multi, \"Multi Dataset\")"
   ]
  },
  {
   "cell_type": "code",
   "execution_count": null,
   "metadata": {},
   "outputs": [],
   "source": []
  }
 ],
 "metadata": {
  "kernelspec": {
   "display_name": "base",
   "language": "python",
   "name": "python3"
  },
  "language_info": {
   "codemirror_mode": {
    "name": "ipython",
    "version": 3
   },
   "file_extension": ".py",
   "mimetype": "text/x-python",
   "name": "python",
   "nbconvert_exporter": "python",
   "pygments_lexer": "ipython3",
   "version": "3.11.1"
  }
 },
 "nbformat": 4,
 "nbformat_minor": 2
}
