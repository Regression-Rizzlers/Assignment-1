{
 "cells": [
  {
   "cell_type": "code",
   "execution_count": 1,
   "metadata": {},
   "outputs": [],
   "source": [
    "import numpy as np\n",
    "import pandas as pd\n",
    "from sklearn.linear_model import LinearRegression\n",
    "from sklearn.metrics import accuracy_score, mean_squared_error\n",
    "from sklearn.model_selection import train_test_split, cross_val_score\n",
    "from sklearn.multioutput import MultiOutputRegressor"
   ]
  },
  {
   "cell_type": "markdown",
   "metadata": {},
   "source": [
    "# Load Datasets"
   ]
  },
  {
   "cell_type": "code",
   "execution_count": 2,
   "metadata": {},
   "outputs": [],
   "source": [
    "def load_data(file_path):\n",
    "    A = np.loadtxt(file_path)\n",
    "    X = A[:, :9]    # Input features\n",
    "    y = A[:, 9:]    # Output labels\n",
    "    return X, y"
   ]
  },
  {
   "cell_type": "code",
   "execution_count": 3,
   "metadata": {},
   "outputs": [],
   "source": [
    "X_multi, y_multi = load_data('data/tictac_multi.txt')"
   ]
  },
  {
   "cell_type": "markdown",
   "metadata": {},
   "source": [
    "# Linear Regression"
   ]
  },
  {
   "cell_type": "code",
   "execution_count": 4,
   "metadata": {},
   "outputs": [],
   "source": [
    "def lr_train(X, y):\n",
    "    # Split into training and testing data\n",
    "    X_train, X_test, y_train, y_test = train_test_split(X, y, test_size=0.2, shuffle=True, random_state=42)\n",
    "\n",
    "    # Define and train model\n",
    "    base_regressor = LinearRegression()\n",
    "    model = MultiOutputRegressor(base_regressor)\n",
    "    model.fit(X_train, y_train)\n",
    "\n",
    "    # Get cross validation accuracy\n",
    "    val_accuracy = cross_val_score(model, X_train, y_train, cv=10, scoring=\"r2\")\n",
    "    val_accuracy = np.mean(val_accuracy)\n",
    "\n",
    "    # Get test accuracy\n",
    "    test_accuracy = model.score(X_test, y_test)\n",
    "\n",
    "    # Get RMSE\n",
    "    y_pred = model.predict(X_test)\n",
    "    mse = mean_squared_error(y_test, y_pred)\n",
    "    rmse = np.sqrt(mse)\n",
    "\n",
    "    return val_accuracy, test_accuracy, rmse"
   ]
  },
  {
   "cell_type": "code",
   "execution_count": 5,
   "metadata": {},
   "outputs": [],
   "source": [
    "def print_results(val_accuracy, test_accuracy, rmse, dataset_name):\n",
    "    print(f\"Performance of Linear Regression on {dataset_name}:\")\n",
    "    print(\"Cross Validation Accuracy = \", val_accuracy)\n",
    "    print(\"Test Accuracy = \", test_accuracy)\n",
    "    print(\"RMSE = \", rmse)"
   ]
  },
  {
   "cell_type": "markdown",
   "metadata": {},
   "source": [
    "## Multi Dataset"
   ]
  },
  {
   "cell_type": "code",
   "execution_count": 6,
   "metadata": {},
   "outputs": [
    {
     "name": "stdout",
     "output_type": "stream",
     "text": [
      "Performance of Linear Regression on Multi Dataset:\n",
      "Cross Validation Accuracy =  0.00011944644299215242\n",
      "Test Accuracy =  0.0025845568803451765\n",
      "RMSE =  0.41040380121796166\n"
     ]
    }
   ],
   "source": [
    "val_rmse_multi, test_acc_multi, rmse_multi = lr_train(X_multi, y_multi)\n",
    "print_results(val_rmse_multi, test_acc_multi, rmse_multi, \"Multi Dataset\")"
   ]
  },
  {
   "cell_type": "code",
   "execution_count": null,
   "metadata": {},
   "outputs": [],
   "source": []
  }
 ],
 "metadata": {
  "kernelspec": {
   "display_name": "base",
   "language": "python",
   "name": "python3"
  },
  "language_info": {
   "codemirror_mode": {
    "name": "ipython",
    "version": 3
   },
   "file_extension": ".py",
   "mimetype": "text/x-python",
   "name": "python",
   "nbconvert_exporter": "python",
   "pygments_lexer": "ipython3",
   "version": "3.11.1"
  }
 },
 "nbformat": 4,
 "nbformat_minor": 2
}
