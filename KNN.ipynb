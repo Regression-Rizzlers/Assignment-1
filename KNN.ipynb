{
 "cells": [
  {
   "cell_type": "code",
   "execution_count": 1,
   "metadata": {},
   "outputs": [],
   "source": [
    "import numpy as np\n",
    "import pandas as pd\n",
    "from sklearn.neighbors import KNeighborsClassifier, KNeighborsRegressor\n",
    "from sklearn.metrics import confusion_matrix, multilabel_confusion_matrix, accuracy_score\n",
    "from sklearn.model_selection import train_test_split, cross_val_score\n",
    "from sklearn.multioutput import MultiOutputRegressor"
   ]
  },
  {
   "cell_type": "markdown",
   "metadata": {},
   "source": [
    "# Load Datasets"
   ]
  },
  {
   "cell_type": "code",
   "execution_count": 8,
   "metadata": {},
   "outputs": [],
   "source": [
    "def load_data(file_path):\n",
    "    A = np.loadtxt(file_path)\n",
    "    X = A[:, :9]    # Input features\n",
    "    y = A[:, 9:]    # Output labels\n",
    "    return X, y"
   ]
  },
  {
   "cell_type": "code",
   "execution_count": 9,
   "metadata": {},
   "outputs": [],
   "source": [
    "# Load all 3 datasets\n",
    "X_final, y_final = load_data('data/tictac_final.txt')\n",
    "y_final = y_final[:, 0]\n",
    "\n",
    "X_single, y_single = load_data('data/tictac_single.txt')\n",
    "y_single = y_single[:, 0]\n",
    "\n",
    "X_multi, y_multi = load_data('data/tictac_multi.txt')"
   ]
  },
  {
   "cell_type": "markdown",
   "metadata": {},
   "source": [
    "## KNN Classifier"
   ]
  },
  {
   "cell_type": "code",
   "execution_count": 4,
   "metadata": {},
   "outputs": [],
   "source": [
    "def knn_clf_train(X, y):\n",
    "    # Split into training and testing data\n",
    "    X_train, X_test, y_train, y_test = train_test_split(X, y, test_size=0.2, shuffle=True, random_state=42)\n",
    "\n",
    "    # Define and train model\n",
    "    model = KNeighborsClassifier(n_neighbors=1)\n",
    "    model.fit(X_train, y_train)\n",
    "\n",
    "    # Get cross validation accuracy\n",
    "    val_accuracy = cross_val_score(model, X_train, y_train, cv=10, scoring=\"accuracy\")\n",
    "    val_accuracy = np.mean(val_accuracy)\n",
    "\n",
    "    # Get test accuracy\n",
    "    y_pred = model.predict(X_test)\n",
    "    test_accuracy = accuracy_score(y_test, y_pred)\n",
    "\n",
    "    # Get confusion matrix\n",
    "    confusion_mtrx = confusion_matrix(y_test, y_pred, normalize=\"true\")\n",
    "\n",
    "    return val_accuracy, test_accuracy, confusion_mtrx"
   ]
  },
  {
   "cell_type": "code",
   "execution_count": 5,
   "metadata": {},
   "outputs": [],
   "source": [
    "def print_clf_results(val_accuracy, test_accuracy, confusion_mtrx, dataset_name):\n",
    "    print(f\"Performance of KNN Classification on {dataset_name}:\")\n",
    "    print(\"Cross Validation Accuracy = \", val_accuracy)\n",
    "    print(\"Test Accuracy = \", test_accuracy)\n",
    "    print(\"Confusion Matrix:\")\n",
    "    print(confusion_mtrx.round(decimals=3)) # Round to 3 decimal places"
   ]
  },
  {
   "cell_type": "markdown",
   "metadata": {},
   "source": [
    "## Final Dataset"
   ]
  },
  {
   "cell_type": "code",
   "execution_count": 10,
   "metadata": {},
   "outputs": [
    {
     "name": "stdout",
     "output_type": "stream",
     "text": [
      "Performance of KNN Classification on Final Dataset:\n",
      "Cross Validation Accuracy =  1.0\n",
      "Test Accuracy =  1.0\n",
      "Confusion Matrix:\n",
      "[[1. 0.]\n",
      " [0. 1.]]\n"
     ]
    }
   ],
   "source": [
    "val_acc_final, test_acc_final, confusion_mtrx_final = knn_clf_train(X_final, y_final)\n",
    "print_clf_results(val_acc_final, test_acc_final, confusion_mtrx_final, \"Final Dataset\")"
   ]
  },
  {
   "cell_type": "markdown",
   "metadata": {},
   "source": [
    "## Single Dataset"
   ]
  },
  {
   "cell_type": "code",
   "execution_count": 15,
   "metadata": {},
   "outputs": [
    {
     "name": "stdout",
     "output_type": "stream",
     "text": [
      "Performance of KNN Classification on Single Dataset:\n",
      "Accuracy =  0.8269083969465649\n",
      "Confusion Matrix:\n",
      "[[0.898 0.003 0.028 0.    0.04  0.009 0.012 0.006 0.003]\n",
      " [0.024 0.857 0.018 0.018 0.036 0.    0.012 0.    0.036]\n",
      " [0.08  0.016 0.856 0.011 0.011 0.005 0.005 0.005 0.011]\n",
      " [0.043 0.068 0.034 0.769 0.026 0.    0.009 0.017 0.034]\n",
      " [0.054 0.04  0.02  0.    0.861 0.    0.01  0.    0.015]\n",
      " [0.053 0.039 0.039 0.    0.    0.855 0.    0.    0.013]\n",
      " [0.02  0.03  0.    0.    0.02  0.    0.909 0.01  0.01 ]\n",
      " [0.02  0.1   0.    0.06  0.06  0.    0.02  0.68  0.06 ]\n",
      " [0.022 0.056 0.011 0.011 0.011 0.    0.    0.022 0.865]]\n",
      "\n",
      "\n"
     ]
    }
   ],
   "source": [
    "val_acc_single, test_acc_single, confusion_mtrx_single = knn_clf_train(X_single, y_single)\n",
    "print_clf_results(val_acc_single, test_acc_single, confusion_mtrx_single, \"Single Dataset\")"
   ]
  },
  {
   "cell_type": "markdown",
   "metadata": {},
   "source": [
    "# KNN Regressor"
   ]
  },
  {
   "cell_type": "code",
   "execution_count": 16,
   "metadata": {},
   "outputs": [],
   "source": [
    "def knn_reg_train(X, y):\n",
    "    # Split into training and testing data\n",
    "    X_train, X_test, y_train, y_test = train_test_split(X, y, test_size=0.2, shuffle=True, random_state=42)\n",
    "\n",
    "    # Define and train model\n",
    "    base_classifier = KNeighborsRegressor(n_neighbors=1)\n",
    "    model = MultiOutputRegressor(base_classifier)\n",
    "    model.fit(X_train, y_train)\n",
    "\n",
    "    # Get accuracy\n",
    "    accuracy = cross_val_score(model, X_train, y_train, cv=10, scoring=\"accuracy\")\n",
    "    mean_accuracy = np.mean(accuracy)\n",
    "\n",
    "    # Get confusion matrix\n",
    "    y_pred = model.predict(X_test)\n",
    "    confusion_mtrx = multilabel_confusion_matrix(y_test, y_pred)\n",
    "\n",
    "    return mean_accuracy, confusion_mtrx"
   ]
  },
  {
   "cell_type": "code",
   "execution_count": 17,
   "metadata": {},
   "outputs": [],
   "source": [
    "def print_reg_results(accuracy, confusion_mtrx, dataset_name):\n",
    "    print(f\"Performance of KNN Regression on {dataset_name}:\")\n",
    "    print(\"Accuracy = \", accuracy)\n",
    "    print(\"Confusion Matrix:\")\n",
    "\n",
    "    for i, matrix in enumerate(confusion_mtrx):\n",
    "        print(f\"Confusion Matrix for Label {i}:\")\n",
    "\n",
    "        # Normalize confusion matrix\n",
    "        row_sums = matrix.sum(axis=1, keepdims=True)\n",
    "        matrix = matrix / row_sums\n",
    "        print(matrix.round(decimals=3))\n",
    "        \n",
    "    print(\"\\n\")"
   ]
  },
  {
   "cell_type": "markdown",
   "metadata": {},
   "source": [
    "## Multi Dataset"
   ]
  },
  {
   "cell_type": "code",
   "execution_count": 18,
   "metadata": {},
   "outputs": [
    {
     "name": "stdout",
     "output_type": "stream",
     "text": [
      "Performance of KNN Regression on Multi Dataset:\n",
      "Accuracy =  0.7290076335877862\n",
      "Confusion Matrix:\n",
      "Confusion Matrix for Label 0:\n",
      "[[0.955 0.045]\n",
      " [0.102 0.898]]\n",
      "Confusion Matrix for Label 1:\n",
      "[[0.954 0.046]\n",
      " [0.169 0.831]]\n",
      "Confusion Matrix for Label 2:\n",
      "[[0.975 0.025]\n",
      " [0.089 0.911]]\n",
      "Confusion Matrix for Label 3:\n",
      "[[0.964 0.036]\n",
      " [0.188 0.812]]\n",
      "Confusion Matrix for Label 4:\n",
      "[[0.956 0.044]\n",
      " [0.081 0.919]]\n",
      "Confusion Matrix for Label 5:\n",
      "[[0.961 0.039]\n",
      " [0.15  0.85 ]]\n",
      "Confusion Matrix for Label 6:\n",
      "[[0.958 0.042]\n",
      " [0.086 0.914]]\n",
      "Confusion Matrix for Label 7:\n",
      "[[0.949 0.051]\n",
      " [0.207 0.793]]\n",
      "Confusion Matrix for Label 8:\n",
      "[[0.951 0.049]\n",
      " [0.131 0.869]]\n",
      "\n",
      "\n"
     ]
    }
   ],
   "source": [
    "accuracy_multi, confusion_mtrx_multi = knn_reg_train(X_multi, y_multi)\n",
    "print_reg_results(accuracy_multi, confusion_mtrx_multi, \"Multi Dataset\")"
   ]
  },
  {
   "cell_type": "code",
   "execution_count": null,
   "metadata": {},
   "outputs": [],
   "source": []
  }
 ],
 "metadata": {
  "kernelspec": {
   "display_name": "base",
   "language": "python",
   "name": "python3"
  },
  "language_info": {
   "codemirror_mode": {
    "name": "ipython",
    "version": 3
   },
   "file_extension": ".py",
   "mimetype": "text/x-python",
   "name": "python",
   "nbconvert_exporter": "python",
   "pygments_lexer": "ipython3",
   "version": "3.11.5"
  }
 },
 "nbformat": 4,
 "nbformat_minor": 2
}
