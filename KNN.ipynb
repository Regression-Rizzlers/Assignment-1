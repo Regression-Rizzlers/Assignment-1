{
 "cells": [
  {
   "cell_type": "code",
   "execution_count": 53,
   "metadata": {},
   "outputs": [],
   "source": [
    "import numpy as np\n",
    "import pandas as pd\n",
    "from sklearn.neighbors import KNeighborsClassifier, KNeighborsRegressor\n",
    "from sklearn.metrics import confusion_matrix, accuracy_score, mean_squared_error\n",
    "from sklearn.model_selection import train_test_split, cross_val_score, GridSearchCV, RandomizedSearchCV\n",
    "from sklearn.multioutput import MultiOutputRegressor"
   ]
  },
  {
   "cell_type": "markdown",
   "metadata": {},
   "source": [
    "# Load Datasets"
   ]
  },
  {
   "cell_type": "code",
   "execution_count": 54,
   "metadata": {},
   "outputs": [],
   "source": [
    "def load_data(file_path):\n",
    "    A = np.loadtxt(file_path)\n",
    "    X = A[:, :9]    # Input features\n",
    "    y = A[:, 9:]    # Output labels\n",
    "    return X, y"
   ]
  },
  {
   "cell_type": "code",
   "execution_count": 55,
   "metadata": {},
   "outputs": [],
   "source": [
    "# Load all 3 datasets\n",
    "X_final, y_final = load_data('data/tictac_final.txt')\n",
    "y_final = y_final[:, 0]\n",
    "\n",
    "X_single, y_single = load_data('data/tictac_single.txt')\n",
    "y_single = y_single[:, 0]\n",
    "\n",
    "X_multi, y_multi = load_data('data/tictac_multi.txt')"
   ]
  },
  {
   "cell_type": "markdown",
   "metadata": {},
   "source": [
    "## KNN Classifier"
   ]
  },
  {
   "cell_type": "code",
   "execution_count": 56,
   "metadata": {},
   "outputs": [],
   "source": [
    "def find_optimal_clf_k(X_train, y_train):\n",
    "    model = KNeighborsClassifier()\n",
    "\n",
    "    # Define the parameter grid\n",
    "    param_grid = {'n_neighbors': np.arange(1, 10)}\n",
    "\n",
    "    # GridSearchCV to find the best value of k\n",
    "    grid_search = RandomizedSearchCV(model, param_distributions=param_grid, n_iter=9, cv=10, random_state=42)\n",
    "    grid_search.fit(X_train, y_train)\n",
    "\n",
    "    # Get the best value of k\n",
    "    optimal_k = grid_search.best_params_['n_neighbors']\n",
    "    print(\"Optimal k:\", optimal_k)\n",
    "        \n",
    "    return optimal_k"
   ]
  },
  {
   "cell_type": "code",
   "execution_count": 65,
   "metadata": {},
   "outputs": [],
   "source": [
    "def knn_clf_train(X, y, is_one_tenth = False):\n",
    "    # Split into training and testing data\n",
    "    if is_one_tenth == False:\n",
    "        X_train, X_test, y_train, y_test = train_test_split(X, y, test_size=0.2, shuffle=True, random_state=42)\n",
    "    else:\n",
    "        X_train, X_test, y_train, y_test = train_test_split(X, y, train_size=0.1, shuffle=True, random_state=42)\n",
    "\n",
    "    # Find the optimal k value\n",
    "    optimal_k = find_optimal_clf_k(X_train, y_train)\n",
    "\n",
    "    # Define and train model\n",
    "    model = KNeighborsClassifier(n_neighbors=optimal_k)\n",
    "    model.fit(X_train, y_train)\n",
    "\n",
    "    # Get cross validation accuracy\n",
    "    val_accuracy = cross_val_score(model, X_train, y_train, cv=10, scoring=\"accuracy\")\n",
    "    val_accuracy = np.mean(val_accuracy)\n",
    "\n",
    "    # Get test accuracy\n",
    "    y_pred = model.predict(X_test)\n",
    "    test_accuracy = accuracy_score(y_test, y_pred)\n",
    "\n",
    "    # Get confusion matrix\n",
    "    confusion_mtrx = confusion_matrix(y_test, y_pred, normalize=\"true\")\n",
    "\n",
    "    return val_accuracy, test_accuracy, confusion_mtrx"
   ]
  },
  {
   "cell_type": "code",
   "execution_count": 58,
   "metadata": {},
   "outputs": [],
   "source": [
    "def print_clf_results(val_accuracy, test_accuracy, confusion_mtrx, dataset_name):\n",
    "    print(f\"Performance of KNN Classification on {dataset_name}:\")\n",
    "    print(\"Cross Validation Accuracy = \", val_accuracy)\n",
    "    print(\"Test Accuracy = \", test_accuracy)\n",
    "    print(\"Confusion Matrix:\")\n",
    "    print(confusion_mtrx.round(decimals=3)) # Round to 3 decimal places"
   ]
  },
  {
   "cell_type": "markdown",
   "metadata": {},
   "source": [
    "## Final Dataset"
   ]
  },
  {
   "cell_type": "code",
   "execution_count": 66,
   "metadata": {},
   "outputs": [
    {
     "name": "stdout",
     "output_type": "stream",
     "text": [
      "Optimal k: 1\n",
      "Performance of KNN Classification on Final Dataset:\n",
      "Cross Validation Accuracy =  1.0\n",
      "Test Accuracy =  1.0\n",
      "Confusion Matrix:\n",
      "[[1. 0.]\n",
      " [0. 1.]]\n",
      "Extra Credit #2 - Train the models on 1/10th of the data\n",
      "Optimal k: 4\n",
      "Performance of KNN Classification on Final Dataset:\n",
      "Cross Validation Accuracy =  0.8622222222222223\n",
      "Test Accuracy =  0.8586326767091541\n",
      "Confusion Matrix:\n",
      "[[0.753 0.247]\n",
      " [0.084 0.916]]\n"
     ]
    }
   ],
   "source": [
    "val_acc_final, test_acc_final, confusion_mtrx_final = knn_clf_train(X_final, y_final)\n",
    "print_clf_results(val_acc_final, test_acc_final, confusion_mtrx_final, \"Final Dataset\")\n",
    "\n",
    "print(\"Extra Credit #2 - Train the models on 1/10th of the data\")\n",
    "val_acc_final, test_acc_final, confusion_mtrx_final = knn_clf_train(X_final, y_final, True)\n",
    "print_clf_results(val_acc_final, test_acc_final, confusion_mtrx_final, \"Final Dataset\")"
   ]
  },
  {
   "cell_type": "markdown",
   "metadata": {},
   "source": [
    "## Single Dataset"
   ]
  },
  {
   "cell_type": "code",
   "execution_count": 67,
   "metadata": {},
   "outputs": [
    {
     "name": "stdout",
     "output_type": "stream",
     "text": [
      "Optimal k: 1\n",
      "Performance of KNN Classification on Single Dataset:\n",
      "Cross Validation Accuracy =  0.8269083969465649\n",
      "Test Accuracy =  0.8573607932875668\n",
      "Confusion Matrix:\n",
      "[[0.898 0.003 0.028 0.    0.04  0.009 0.012 0.006 0.003]\n",
      " [0.024 0.857 0.018 0.018 0.036 0.    0.012 0.    0.036]\n",
      " [0.08  0.016 0.856 0.011 0.011 0.005 0.005 0.005 0.011]\n",
      " [0.043 0.068 0.034 0.769 0.026 0.    0.009 0.017 0.034]\n",
      " [0.054 0.04  0.02  0.    0.861 0.    0.01  0.    0.015]\n",
      " [0.053 0.039 0.039 0.    0.    0.855 0.    0.    0.013]\n",
      " [0.02  0.03  0.    0.    0.02  0.    0.909 0.01  0.01 ]\n",
      " [0.02  0.1   0.    0.06  0.06  0.    0.02  0.68  0.06 ]\n",
      " [0.022 0.056 0.011 0.011 0.011 0.    0.    0.022 0.865]]\n",
      "Extra Credit #2 - Train the models on 1/10th of the data\n",
      "Optimal k: 5\n",
      "Performance of KNN Classification on Single Dataset:\n",
      "Cross Validation Accuracy =  0.5556643356643356\n",
      "Test Accuracy =  0.5532564450474898\n",
      "Confusion Matrix:\n",
      "[[0.797 0.056 0.03  0.01  0.043 0.005 0.026 0.023 0.011]\n",
      " [0.105 0.65  0.068 0.021 0.068 0.015 0.019 0.024 0.032]\n",
      " [0.166 0.12  0.564 0.033 0.052 0.007 0.024 0.016 0.018]\n",
      " [0.182 0.158 0.079 0.319 0.094 0.028 0.077 0.034 0.028]\n",
      " [0.191 0.158 0.066 0.03  0.483 0.012 0.023 0.016 0.021]\n",
      " [0.202 0.109 0.112 0.065 0.075 0.333 0.037 0.025 0.04 ]\n",
      " [0.204 0.128 0.103 0.047 0.052 0.006 0.419 0.016 0.025]\n",
      " [0.101 0.138 0.096 0.028 0.05  0.032 0.092 0.413 0.05 ]\n",
      " [0.236 0.107 0.083 0.029 0.097 0.015 0.01  0.066 0.358]]\n"
     ]
    }
   ],
   "source": [
    "val_acc_single, test_acc_single, confusion_mtrx_single = knn_clf_train(X_single, y_single)\n",
    "print_clf_results(val_acc_single, test_acc_single, confusion_mtrx_single, \"Single Dataset\")\n",
    "\n",
    "print(\"Extra Credit #2 - Train the models on 1/10th of the data\")\n",
    "val_acc_single, test_acc_single, confusion_mtrx_single = knn_clf_train(X_single, y_single, True)\n",
    "print_clf_results(val_acc_single, test_acc_single, confusion_mtrx_single, \"Single Dataset\")"
   ]
  },
  {
   "cell_type": "markdown",
   "metadata": {},
   "source": [
    "# KNN Regressor"
   ]
  },
  {
   "cell_type": "code",
   "execution_count": 61,
   "metadata": {},
   "outputs": [],
   "source": [
    "def find_optimal_reg_k(X_train, y_train):\n",
    "    knn_regressor = KNeighborsRegressor()\n",
    "    multioutput_regressor = MultiOutputRegressor(knn_regressor)\n",
    "\n",
    "    # Define the parameter grid\n",
    "    param_grid = {'estimator__n_neighbors': np.arange(1, 10)}\n",
    "\n",
    "    # GridSearchCV to find the best value of k\n",
    "    grid_search = RandomizedSearchCV(multioutput_regressor, param_grid, n_iter=9, cv=10, scoring='neg_mean_squared_error')\n",
    "    grid_search.fit(X_train, y_train)\n",
    "\n",
    "    # Get the best value of k\n",
    "    optimal_k = grid_search.best_params_['estimator__n_neighbors']\n",
    "    print(\"Optimal k:\", optimal_k)\n",
    "        \n",
    "    return optimal_k"
   ]
  },
  {
   "cell_type": "code",
   "execution_count": 68,
   "metadata": {},
   "outputs": [],
   "source": [
    "def knn_reg_train(X, y, is_one_tenth = False):\n",
    "    # Split into training and testing data\n",
    "    if is_one_tenth == False:\n",
    "        X_train, X_test, y_train, y_test = train_test_split(X, y, test_size=0.2, shuffle=True, random_state=42)\n",
    "    else:\n",
    "        X_train, X_test, y_train, y_test = train_test_split(X, y, train_size=0.1, shuffle=True, random_state=42)\n",
    "\n",
    "    # Find the optimal k value\n",
    "    optimal_k = find_optimal_reg_k(X_train, y_train)\n",
    "\n",
    "    # Define and train model\n",
    "    base_regressor = KNeighborsRegressor(n_neighbors=optimal_k)\n",
    "    model = MultiOutputRegressor(base_regressor)\n",
    "    model.fit(X_train, y_train)\n",
    "\n",
    "    # Get cross validation accuracy\n",
    "    val_rmse = cross_val_score(model, X_train, y_train, cv=10, scoring=\"neg_mean_squared_error\")\n",
    "    val_rmse = np.mean(val_rmse * -1)  # Convert to positive\n",
    "\n",
    "    # Get test accuracy\n",
    "    test_accuracy = model.score(X_test, y_test)\n",
    "\n",
    "    # Get RMSE\n",
    "    y_pred = model.predict(X_test)\n",
    "    mse = mean_squared_error(y_test, y_pred)\n",
    "    rmse = np.sqrt(mse)\n",
    "\n",
    "    return val_rmse, test_accuracy, rmse"
   ]
  },
  {
   "cell_type": "code",
   "execution_count": 63,
   "metadata": {},
   "outputs": [],
   "source": [
    "def print_reg_results(val_rmse, test_accuracy, rmse, dataset_name):\n",
    "    print(f\"Performance of KNN Regression on {dataset_name}:\")\n",
    "    print(\"Cross Validation RMSE = \", val_rmse)\n",
    "    print(\"Test Accuracy = \", test_accuracy)\n",
    "    print(\"RMSE = \", rmse)"
   ]
  },
  {
   "cell_type": "markdown",
   "metadata": {},
   "source": [
    "## Multi Dataset"
   ]
  },
  {
   "cell_type": "code",
   "execution_count": 69,
   "metadata": {},
   "outputs": [
    {
     "name": "stdout",
     "output_type": "stream",
     "text": [
      "Optimal k: 1\n",
      "Performance of KNN Regression on Multi Dataset:\n",
      "Cross Validation RMSE =  0.0693596268023749\n",
      "Test Accuracy =  0.6328073940260437\n",
      "RMSE =  0.2458228018360667\n",
      "Extra Credit #2 - Train the models on 1/10th of the data\n",
      "Optimal k: 7\n",
      "Performance of KNN Regression on Multi Dataset:\n",
      "Cross Validation RMSE =  0.11011459440030869\n",
      "Test Accuracy =  0.3529073027612973\n",
      "RMSE =  0.3281922228849391\n"
     ]
    }
   ],
   "source": [
    "val_rmse_multi, test_acc_multi, rmse_multi = knn_reg_train(X_multi, y_multi)\n",
    "print_reg_results(val_rmse_multi, test_acc_multi, rmse_multi, \"Multi Dataset\")\n",
    "\n",
    "print(\"Extra Credit #2 - Train the models on 1/10th of the data\")\n",
    "val_rmse_multi, test_acc_multi, rmse_multi = knn_reg_train(X_multi, y_multi, True)\n",
    "print_reg_results(val_rmse_multi, test_acc_multi, rmse_multi, \"Multi Dataset\")"
   ]
  },
  {
   "cell_type": "code",
   "execution_count": null,
   "metadata": {},
   "outputs": [],
   "source": []
  }
 ],
 "metadata": {
  "kernelspec": {
   "display_name": "base",
   "language": "python",
   "name": "python3"
  },
  "language_info": {
   "codemirror_mode": {
    "name": "ipython",
    "version": 3
   },
   "file_extension": ".py",
   "mimetype": "text/x-python",
   "name": "python",
   "nbconvert_exporter": "python",
   "pygments_lexer": "ipython3",
   "version": "3.11.1"
  }
 },
 "nbformat": 4,
 "nbformat_minor": 2
}
