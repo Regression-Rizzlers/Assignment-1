{
 "cells": [
  {
   "cell_type": "code",
   "execution_count": 1,
   "metadata": {},
   "outputs": [],
   "source": [
    "import numpy as np\n",
    "import pandas as pd\n",
    "from sklearn.svm import SVC\n",
    "from sklearn.metrics import confusion_matrix, accuracy_score\n",
    "from sklearn.model_selection import train_test_split, cross_val_score, GridSearchCV, RandomizedSearchCV"
   ]
  },
  {
   "cell_type": "markdown",
   "metadata": {},
   "source": [
    "# Load Datasets"
   ]
  },
  {
   "cell_type": "code",
   "execution_count": 2,
   "metadata": {},
   "outputs": [],
   "source": [
    "def load_data(file_path):\n",
    "    A = np.loadtxt(file_path)\n",
    "    X = A[:, :9]    # Input features\n",
    "    y = A[:, 9:]    # Output labels\n",
    "    return X, y"
   ]
  },
  {
   "cell_type": "code",
   "execution_count": 3,
   "metadata": {},
   "outputs": [],
   "source": [
    "# Load all 3 datasets\n",
    "X_final, y_final = load_data('data/tictac_final.txt')\n",
    "y_final = y_final[:, 0]\n",
    "\n",
    "X_single, y_single = load_data('data/tictac_single.txt')\n",
    "y_single = y_single[:, 0]"
   ]
  },
  {
   "cell_type": "markdown",
   "metadata": {},
   "source": [
    "# SVM Classifier"
   ]
  },
  {
   "cell_type": "code",
   "execution_count": 4,
   "metadata": {},
   "outputs": [],
   "source": [
    "def finetune_parameters(X_train, y_train):\n",
    "    # Define the model\n",
    "    model = SVC()\n",
    "\n",
    "    # Define hyperparameters to search\n",
    "    param_grid = {'C': [1, 10, 100],\n",
    "                  'kernel': ['linear', 'poly', 'rbf']}\n",
    "\n",
    "    # Perform randomized search for hyperparameter tuning\n",
    "    randomized_search = RandomizedSearchCV(model, param_distributions=param_grid, n_iter=3, cv=10, random_state=42)\n",
    "    randomized_search.fit(X_train, y_train)\n",
    "\n",
    "    # Get the best hyperparameters\n",
    "    best_params = randomized_search.best_params_\n",
    "    print(best_params)\n",
    "\n",
    "    return best_params"
   ]
  },
  {
   "cell_type": "code",
<<<<<<< HEAD
   "execution_count": 27,
=======
   "execution_count": 5,
>>>>>>> classifiers
   "metadata": {},
   "outputs": [],
   "source": [
    "def svm_train(X, y, is_one_tenth = False):\n",
    "    # Split into training and testing data\n",
    "    if is_one_tenth == False:\n",
    "        X_train, X_test, y_train, y_test = train_test_split(X, y, test_size=0.2, shuffle=True, random_state=42)\n",
    "    else:\n",
    "        X_train, X_test, y_train, y_test = train_test_split(X, y, train_size=0.1, shuffle=True, random_state=42)\n",
    "\n",
    "    # Find best parameters using RandomizedSearch\n",
    "    best_params = finetune_parameters(X_train, y_train)\n",
    "\n",
    "    # Train the model with the best hyperparameters\n",
    "    best_model = SVC(**best_params)\n",
    "    best_model.fit(X_train, y_train)\n",
    "\n",
    "    # Get cross validation accuracy\n",
    "    val_accuracy = cross_val_score(best_model, X_train, y_train, cv=10, scoring=\"accuracy\")\n",
    "    val_accuracy = np.mean(val_accuracy)\n",
    "\n",
    "    # Get test accuracy\n",
    "    y_pred = best_model.predict(X_test)\n",
    "    test_accuracy = accuracy_score(y_test, y_pred)\n",
    "\n",
    "    # Get confusion matrix\n",
    "    confusion_mtrx = confusion_matrix(y_test, y_pred, normalize=\"true\")\n",
    "\n",
    "    return val_accuracy, test_accuracy, confusion_mtrx\n"
   ]
  },
  {
   "cell_type": "code",
   "execution_count": 6,
   "metadata": {},
   "outputs": [],
   "source": [
    "def print_results(val_accuracy, test_accuracy, confusion_mtrx, dataset_name):\n",
    "    print(f\"Performance of SVM Classification on {dataset_name}:\")\n",
    "    print(\"Cross Validation Accuracy = \", val_accuracy)\n",
    "    print(\"Test Accuracy = \", test_accuracy)\n",
    "    print(\"Confusion Matrix:\")\n",
    "    print(confusion_mtrx.round(decimals=3)) # Round to 3 decimal places"
   ]
  },
  {
   "cell_type": "markdown",
   "metadata": {},
   "source": [
    "## Final Dataset"
   ]
  },
  {
   "cell_type": "code",
<<<<<<< HEAD
   "execution_count": 29,
=======
   "execution_count": 7,
>>>>>>> classifiers
   "metadata": {},
   "outputs": [
    {
     "name": "stdout",
     "output_type": "stream",
     "text": [
      "{'kernel': 'rbf', 'C': 10}\n",
      "Performance of SVM Classification on Final Dataset:\n",
      "Cross Validation Accuracy =  0.9934723171565276\n",
      "Test Accuracy =  0.9947916666666666\n",
      "Confusion Matrix:\n",
      "[[0.985 0.015]\n",
      " [0.    1.   ]]\n",
      "Extra Credit #2 - Train the models on 1/10th of the data\n",
      "{'kernel': 'poly', 'C': 100}\n",
      "Performance of SVM Classification on Final Dataset:\n",
      "Cross Validation Accuracy =  0.9566666666666667\n",
      "Test Accuracy =  0.9860950173812283\n",
      "Confusion Matrix:\n",
      "[[0.961 0.039]\n",
      " [0.    1.   ]]\n"
     ]
    }
   ],
   "source": [
    "val_acc_final, test_acc_final, confusion_mtrx_final = svm_train(X_final, y_final)\n",
    "print_results(val_acc_final, test_acc_final, confusion_mtrx_final, \"Final Dataset\")\n",
    "\n",
    "print(\"Extra Credit #2 - Train the models on 1/10th of the data\")\n",
    "val_acc_final, test_acc_final, confusion_mtrx_final = svm_train(X_final, y_final, True)\n",
    "print_results(val_acc_final, test_acc_final, confusion_mtrx_final, \"Final Dataset\")"
   ]
  },
  {
   "cell_type": "markdown",
   "metadata": {},
   "source": [
    "## Single Dataset"
   ]
  },
  {
   "cell_type": "code",
<<<<<<< HEAD
   "execution_count": 30,
=======
   "execution_count": 8,
>>>>>>> classifiers
   "metadata": {},
   "outputs": [],
   "source": [
    "# Due to RandomSearchCV timing out, we used this to manually test the different hyperparameter combos\n",
    "def svm_train_single(X, y, is_one_tenth = False):\n",
    "    # Split into training and testing data\n",
    "    if is_one_tenth == False:\n",
    "        X_train, X_test, y_train, y_test = train_test_split(X, y, test_size=0.2, shuffle=True, random_state=42)\n",
    "    else:\n",
    "        X_train, X_test, y_train, y_test = train_test_split(X, y, train_size=0.1, shuffle=True, random_state=42)\n",
    "\n",
    "    # Train the model with the best hyperparameters\n",
    "    best_model = SVC(kernel=\"rbf\", C=100)\n",
    "    best_model.fit(X_train, y_train)\n",
    "\n",
    "    # Get cross validation accuracy\n",
    "    val_accuracy = cross_val_score(best_model, X_train, y_train, cv=10, scoring=\"accuracy\")\n",
    "    val_accuracy = np.mean(val_accuracy)\n",
    "\n",
    "    # Get test accuracy\n",
    "    y_pred = best_model.predict(X_test)\n",
    "    test_accuracy = accuracy_score(y_test, y_pred)\n",
    "\n",
    "    # Get confusion matrix\n",
    "    confusion_mtrx = confusion_matrix(y_test, y_pred, normalize=\"true\")\n",
    "\n",
    "    return val_accuracy, test_accuracy, confusion_mtrx"
   ]
  },
  {
   "cell_type": "code",
<<<<<<< HEAD
   "execution_count": 31,
=======
   "execution_count": 9,
>>>>>>> classifiers
   "metadata": {},
   "outputs": [
    {
     "name": "stdout",
     "output_type": "stream",
     "text": [
      "Performance of SVM Classification on Single Dataset:\n",
      "Cross Validation Accuracy =  0.9133587786259543\n",
      "Test Accuracy =  0.9420289855072463\n",
      "Confusion Matrix:\n",
      "[[0.963 0.003 0.003 0.    0.015 0.    0.009 0.003 0.003]\n",
      " [0.024 0.94  0.006 0.006 0.006 0.    0.012 0.006 0.   ]\n",
      " [0.011 0.005 0.941 0.021 0.    0.    0.005 0.    0.016]\n",
      " [0.034 0.009 0.009 0.932 0.009 0.    0.    0.    0.009]\n",
      " [0.064 0.    0.    0.    0.926 0.01  0.    0.    0.   ]\n",
      " [0.053 0.026 0.026 0.    0.    0.882 0.013 0.    0.   ]\n",
      " [0.    0.02  0.    0.01  0.01  0.    0.96  0.    0.   ]\n",
      " [0.    0.    0.    0.04  0.02  0.    0.    0.94  0.   ]\n",
      " [0.    0.    0.011 0.011 0.    0.    0.    0.022 0.955]]\n",
      "Extra Credit #2 - Train the models on 1/10th of the data\n",
      "Performance of SVM Classification on Single Dataset:\n",
      "Cross Validation Accuracy =  0.6443123543123543\n",
      "Test Accuracy =  0.6777476255088195\n",
      "Confusion Matrix:\n",
      "[[0.811 0.028 0.031 0.015 0.036 0.018 0.022 0.019 0.02 ]\n",
      " [0.069 0.703 0.06  0.032 0.056 0.025 0.011 0.004 0.041]\n",
      " [0.11  0.089 0.661 0.029 0.046 0.005 0.021 0.015 0.025]\n",
      " [0.088 0.081 0.051 0.552 0.066 0.024 0.064 0.045 0.028]\n",
      " [0.128 0.065 0.051 0.041 0.648 0.017 0.015 0.012 0.024]\n",
      " [0.059 0.09  0.053 0.059 0.012 0.611 0.044 0.044 0.028]\n",
      " [0.13  0.07  0.074 0.07  0.041 0.008 0.577 0.    0.029]\n",
      " [0.028 0.096 0.028 0.05  0.032 0.032 0.037 0.665 0.032]\n",
      " [0.136 0.075 0.056 0.027 0.051 0.029 0.005 0.019 0.601]]\n"
     ]
    }
   ],
   "source": [
    "val_acc_single, test_acc_single, confusion_mtrx_single = svm_train_single(X_single, y_single)\n",
    "print_results(val_acc_single, test_acc_single, confusion_mtrx_single, \"Single Dataset\")\n",
    "\n",
    "print(\"Extra Credit #2 - Train the models on 1/10th of the data\")\n",
    "val_acc_single, test_acc_single, confusion_mtrx_single = svm_train_single(X_single, y_single, True)\n",
    "print_results(val_acc_single, test_acc_single, confusion_mtrx_single, \"Single Dataset\")"
   ]
  },
  {
   "cell_type": "code",
   "execution_count": null,
   "metadata": {},
   "outputs": [],
   "source": []
  }
 ],
 "metadata": {
  "kernelspec": {
   "display_name": "base",
   "language": "python",
   "name": "python3"
  },
  "language_info": {
   "codemirror_mode": {
    "name": "ipython",
    "version": 3
   },
   "file_extension": ".py",
   "mimetype": "text/x-python",
   "name": "python",
   "nbconvert_exporter": "python",
   "pygments_lexer": "ipython3",
   "version": "3.11.1"
  }
 },
 "nbformat": 4,
 "nbformat_minor": 2
}
