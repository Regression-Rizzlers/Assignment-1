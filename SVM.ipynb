{
 "cells": [
  {
   "cell_type": "code",
   "execution_count": 56,
   "metadata": {},
   "outputs": [],
   "source": [
    "import numpy as np\n",
    "import pandas as pd\n",
    "from sklearn.svm import LinearSVC\n",
    "from sklearn.metrics import confusion_matrix, multilabel_confusion_matrix\n",
    "from sklearn.model_selection import train_test_split, cross_val_score\n",
    "from sklearn.multioutput import MultiOutputClassifier"
   ]
  },
  {
   "cell_type": "markdown",
   "metadata": {},
   "source": [
    "# Load Datasets"
   ]
  },
  {
   "cell_type": "code",
   "execution_count": 10,
   "metadata": {},
   "outputs": [],
   "source": [
    "def load_data(file_path):\n",
    "    A = np.loadtxt(file_path)\n",
    "    X = A[:, :9]    # Input features\n",
    "    y = A[:, 9:]    # Output labels\n",
    "    return X, y"
   ]
  },
  {
   "cell_type": "code",
   "execution_count": 11,
   "metadata": {},
   "outputs": [],
   "source": [
    "# Load all 3 datasets\n",
    "X_final, y_final = load_data('data/tictac_final.txt')\n",
    "y_final = y_final[:, 0]\n",
    "\n",
    "X_single, y_single = load_data('data/tictac_single.txt')\n",
    "y_single = y_single[:, 0]\n",
    "\n",
    "X_multi, y_multi = load_data('data/tictac_multi.txt')"
   ]
  },
  {
   "cell_type": "markdown",
   "metadata": {},
   "source": [
    "# SVM Classifier"
   ]
  },
  {
   "cell_type": "code",
   "execution_count": 12,
   "metadata": {},
   "outputs": [],
   "source": [
    "def svm_train(X, y):\n",
    "    # Split into training and testing data\n",
    "    X_train, X_test, y_train, y_test = train_test_split(X, y, test_size=0.2, shuffle=True, random_state=42)\n",
    "\n",
    "    # Define and train model\n",
    "    model = LinearSVC(dual=\"auto\")\n",
    "    model.fit(X_train, y_train)\n",
    "\n",
    "    # Get accuracy\n",
    "    accuracy = cross_val_score(model, X_train, y_train, cv=10, scoring=\"accuracy\")\n",
    "    mean_accuracy = np.mean(accuracy)\n",
    "\n",
    "    # Get confusion matrix\n",
    "    y_pred = model.predict(X_test)\n",
    "    confusion_mtrx = confusion_matrix(y_test, y_pred, normalize=\"all\")\n",
    "\n",
    "    return mean_accuracy, confusion_mtrx\n"
   ]
  },
  {
   "cell_type": "code",
   "execution_count": 13,
   "metadata": {},
   "outputs": [],
   "source": [
    "def print_results(accuracy, confusion_mtrx, dataset_name):\n",
    "    print(f\"Performance of Linear SVM Classification on {dataset_name}:\")\n",
    "    print(\"Accuracy = \", accuracy)\n",
    "    print(\"Confusion Matrix:\")\n",
    "    print(confusion_mtrx.round(decimals=3)) # Round to 3 decimal places\n",
    "    print(\"\\n\")"
   ]
  },
  {
   "cell_type": "markdown",
   "metadata": {},
   "source": [
    "## Final Dataset"
   ]
  },
  {
   "cell_type": "code",
   "execution_count": 14,
   "metadata": {},
   "outputs": [
    {
     "name": "stdout",
     "output_type": "stream",
     "text": [
      "Performance of Linear SVM Classification on Final Dataset:\n",
      "Accuracy =  0.9869617224880383\n",
      "Confusion Matrix:\n",
      "[[0.318 0.031]\n",
      " [0.    0.651]]\n",
      "\n",
      "\n"
     ]
    }
   ],
   "source": [
    "accuracy_final, confusion_mtrx_final = svm_train(X_final, y_final)\n",
    "print_results(accuracy_final, confusion_mtrx_final, \"Final Dataset\")"
   ]
  },
  {
   "cell_type": "markdown",
   "metadata": {},
   "source": [
    "## Single Dataset"
   ]
  },
  {
   "cell_type": "code",
   "execution_count": 15,
   "metadata": {},
   "outputs": [
    {
     "name": "stdout",
     "output_type": "stream",
     "text": [
      "Performance of Linear SVM Classification on Single Dataset:\n",
      "Accuracy =  0.23549618320610688\n",
      "Confusion Matrix:\n",
      "[[0.231 0.    0.001 0.    0.014 0.    0.    0.    0.   ]\n",
      " [0.121 0.001 0.004 0.    0.003 0.    0.    0.    0.   ]\n",
      " [0.14  0.    0.001 0.    0.002 0.    0.    0.    0.   ]\n",
      " [0.082 0.    0.004 0.    0.003 0.    0.    0.    0.   ]\n",
      " [0.143 0.001 0.003 0.    0.008 0.    0.    0.    0.   ]\n",
      " [0.054 0.    0.002 0.    0.002 0.    0.    0.    0.   ]\n",
      " [0.069 0.001 0.002 0.    0.005 0.    0.    0.    0.   ]\n",
      " [0.032 0.    0.001 0.    0.005 0.    0.    0.    0.   ]\n",
      " [0.067 0.001 0.    0.    0.    0.    0.    0.    0.   ]]\n",
      "\n",
      "\n"
     ]
    }
   ],
   "source": [
    "accuracy_single, confusion_mtrx_single = svm_train(X_single, y_single)\n",
    "print_results(accuracy_single, confusion_mtrx_single, \"Single Dataset\")"
   ]
  },
  {
   "cell_type": "markdown",
   "metadata": {},
   "source": [
    "## Multi Dataset"
   ]
  },
  {
   "cell_type": "code",
   "execution_count": 61,
   "metadata": {},
   "outputs": [],
   "source": [
    "def svm_train_multi(X, y):\n",
    "    # Split into training and testing data\n",
    "    X_train, X_test, y_train, y_test = train_test_split(X, y, test_size=0.2, shuffle=True, random_state=42)\n",
    "\n",
    "    # Define and train model\n",
    "    base_classifier = LinearSVC(dual=\"auto\")\n",
    "    model = MultiOutputClassifier(base_classifier)\n",
    "    model.fit(X_train, y_train)\n",
    "\n",
    "    # Get accuracy\n",
    "    accuracy = cross_val_score(model, X_train, y_train, cv=10, scoring=\"accuracy\")\n",
    "    mean_accuracy = np.mean(accuracy)\n",
    "\n",
    "    # Get confusion matrix\n",
    "    y_pred = model.predict(X_test)\n",
    "    confusion_matrices = multilabel_confusion_matrix(y_test, y_pred)\n",
    "\n",
    "    return mean_accuracy, confusion_matrices"
   ]
  },
  {
   "cell_type": "code",
   "execution_count": 60,
   "metadata": {},
   "outputs": [],
   "source": [
    "def print_results_multi(accuracy, confusion_matrices, dataset_name):\n",
    "    print(f\"Performance of Linear SVM Classification on {dataset_name}:\")\n",
    "    print(\"Accuracy = \", accuracy)\n",
    "\n",
    "    for i, confusion_matrix in enumerate(confusion_matrices):\n",
    "        print(f\"Confusion Matrix for Label {i}:\")\n",
    "        print(confusion_matrix.round(decimals=3))\n",
    "\n",
    "    print(\"\\n\")"
   ]
  },
  {
   "cell_type": "code",
   "execution_count": 64,
   "metadata": {},
   "outputs": [
    {
     "name": "stdout",
     "output_type": "stream",
     "text": [
      "Performance of Linear SVM Classification on Multi Dataset:\n",
      "Accuracy =  0.0\n",
      "Confusion Matrix for Label 0:\n",
      "[[988   0]\n",
      " [323   0]]\n",
      "Confusion Matrix for Label 1:\n",
      "[[1086    0]\n",
      " [ 225    0]]\n",
      "Confusion Matrix for Label 2:\n",
      "[[998   0]\n",
      " [313   0]]\n",
      "Confusion Matrix for Label 3:\n",
      "[[1061    0]\n",
      " [ 250    0]]\n",
      "Confusion Matrix for Label 4:\n",
      "[[926   0]\n",
      " [385   0]]\n",
      "Confusion Matrix for Label 5:\n",
      "[[1077    0]\n",
      " [ 234    0]]\n",
      "Confusion Matrix for Label 6:\n",
      "[[1021    0]\n",
      " [ 290    0]]\n",
      "Confusion Matrix for Label 7:\n",
      "[[1069    0]\n",
      " [ 242    0]]\n",
      "Confusion Matrix for Label 8:\n",
      "[[1006    0]\n",
      " [ 305    0]]\n",
      "\n",
      "\n"
     ]
    }
   ],
   "source": [
    "accuracy_multi, confusion_matrices = svm_train_multi(X_multi, y_multi)\n",
    "print_results_multi(accuracy_multi, confusion_matrices, \"Multi Dataset\")"
   ]
  },
  {
   "cell_type": "code",
   "execution_count": null,
   "metadata": {},
   "outputs": [],
   "source": []
  }
 ],
 "metadata": {
  "kernelspec": {
   "display_name": "base",
   "language": "python",
   "name": "python3"
  },
  "language_info": {
   "codemirror_mode": {
    "name": "ipython",
    "version": 3
   },
   "file_extension": ".py",
   "mimetype": "text/x-python",
   "name": "python",
   "nbconvert_exporter": "python",
   "pygments_lexer": "ipython3",
   "version": "3.11.5"
  }
 },
 "nbformat": 4,
 "nbformat_minor": 2
}
